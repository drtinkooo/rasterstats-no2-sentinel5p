{
 "cells": [
  {
   "cell_type": "code",
   "execution_count": 1,
   "metadata": {},
   "outputs": [],
   "source": [
    "import geopandas as gpd\n",
    "import rasterio\n",
    "from rasterio.plot import show\n",
    "from rasterio.plot import show_hist\n",
    "import rasterstats\n",
    "import matplotlib.pyplot as plt\n",
    "import pandas as pd"
   ]
  },
  {
   "cell_type": "code",
   "execution_count": 2,
   "metadata": {},
   "outputs": [],
   "source": [
    "# Read the districts of Bangkok Metropolis shapefile \n",
    "districts = gpd.read_file(r'D:\\Projects\\Ajarn Noppol\\005_COVID Project\\COVID Thailand\\Abstract\\Subdis_Bkk.shp')"
   ]
  },
  {
   "cell_type": "code",
   "execution_count": 4,
   "metadata": {},
   "outputs": [],
   "source": [
    "# Read the NO2 raster of 2019 January\n",
    "no2 = rasterio.open(r'D:\\Projects\\Ajarn Noppol\\005_COVID Project\\COVID Thailand\\OMI_2016_2020_Thai\\2020Jan_Thai.tif', mode = 'r')\n"
   ]
  },
  {
   "cell_type": "code",
   "execution_count": 5,
   "metadata": {},
   "outputs": [
    {
     "data": {
      "image/png": "[encoded data removed]",
      "text/plain": [
       "<Figure size 1440x576 with 2 Axes>"
      ]
     },
     "metadata": {
      "needs_background": "light"
     },
     "output_type": "display_data"
    }
   ],
   "source": [
    "# Plotting the raster and the districts shapefile together \n",
    "fig, (ax1, ax2) = plt.subplots(1,2, figsize = (20,8))\n",
    "show(no2, ax = ax1, title = 'NO2')\n",
    "districts.plot(ax = ax1, facecolor = 'None', edgecolor = 'yellow')\n",
    "show_hist(no2, title = 'Histogram', ax = ax2)\n",
    "plt.show()"
   ]
  },
  {
   "cell_type": "code",
   "execution_count": 6,
   "metadata": {},
   "outputs": [],
   "source": [
    "# Assign raster values to a numpy nd array\n",
    "nitrogendioxide_array = no2.read(1)\n",
    "\n",
    "affine = no2.transform"
   ]
  },
  {
   "cell_type": "code",
   "execution_count": 7,
   "metadata": {},
   "outputs": [
    {
     "name": "stderr",
     "output_type": "stream",
     "text": [
      "C:\\ProgramData\\Anaconda3\\lib\\site-packages\\rasterstats\\io.py:300: UserWarning: Setting nodata to -999; specify nodata explicitly\n",
      "  warnings.warn(\"Setting nodata to -999; specify nodata explicitly\")\n"
     ]
    }
   ],
   "source": [
    "# Calculating the zonal statistics \n",
    "avg_no2  = rasterstats.zonal_stats(districts, nitrogendioxide_array, affine = affine,\n",
    "                                      stats = ['mean'], \n",
    "                                      geojson_out = True)"
   ]
  },
  {
   "cell_type": "code",
   "execution_count": 8,
   "metadata": {},
   "outputs": [],
   "source": [
    "# Extracting the average NO2 data from the list\n",
    "avg_nitrogendioxide = []\n",
    "i = 0\n",
    "\n",
    "while i < len(avg_no2):\n",
    "    avg_nitrogendioxide.append(avg_no2[i]['properties'])\n",
    "    i = i + 1"
   ]
  },
  {
   "cell_type": "code",
   "execution_count": 9,
   "metadata": {
    "scrolled": true
   },
   "outputs": [
    {
     "name": "stdout",
     "output_type": "stream",
     "text": [
      "       ENGTYPE_3  ID_0  ID_1  ID_2  ID_3  ISO    NAME_0              NAME_1  \\\n",
      "0   Sub district   228     3    15   109  THA  Thailand  Bangkok Metropolis   \n",
      "1   Sub district   228     3    16   110  THA  Thailand  Bangkok Metropolis   \n",
      "2   Sub district   228     3    17   111  THA  Thailand  Bangkok Metropolis   \n",
      "3   Sub district   228     3    18   112  THA  Thailand  Bangkok Metropolis   \n",
      "4   Sub district   228     3    19   113  THA  Thailand  Bangkok Metropolis   \n",
      "5   Sub district   228     3    20   114  THA  Thailand  Bangkok Metropolis   \n",
      "6   Sub district   228     3    21   115  THA  Thailand  Bangkok Metropolis   \n",
      "7   Sub district   228     3    22   116  THA  Thailand  Bangkok Metropolis   \n",
      "8   Sub district   228     3    23   117  THA  Thailand  Bangkok Metropolis   \n",
      "9   Sub district   228     3    24   118  THA  Thailand  Bangkok Metropolis   \n",
      "10  Sub district   228     3    25   119  THA  Thailand  Bangkok Metropolis   \n",
      "11  Sub district   228     3    26   120  THA  Thailand  Bangkok Metropolis   \n",
      "12  Sub district   228     3    27   121  THA  Thailand  Bangkok Metropolis   \n",
      "13  Sub district   228     3    28   122  THA  Thailand  Bangkok Metropolis   \n",
      "14  Sub district   228     3    29   123  THA  Thailand  Bangkok Metropolis   \n",
      "15  Sub district   228     3    30   124  THA  Thailand  Bangkok Metropolis   \n",
      "16  Sub district   228     3    31   125  THA  Thailand  Bangkok Metropolis   \n",
      "17  Sub district   228     3    32   126  THA  Thailand  Bangkok Metropolis   \n",
      "18  Sub district   228     3    33   127  THA  Thailand  Bangkok Metropolis   \n",
      "19  Sub district   228     3    34   128  THA  Thailand  Bangkok Metropolis   \n",
      "20  Sub district   228     3    35   129  THA  Thailand  Bangkok Metropolis   \n",
      "21  Sub district   228     3    36   130  THA  Thailand  Bangkok Metropolis   \n",
      "22  Sub district   228     3    37   131  THA  Thailand  Bangkok Metropolis   \n",
      "23  Sub district   228     3    38   132  THA  Thailand  Bangkok Metropolis   \n",
      "24  Sub district   228     3    39   133  THA  Thailand  Bangkok Metropolis   \n",
      "25  Sub district   228     3    40   134  THA  Thailand  Bangkok Metropolis   \n",
      "26  Sub district   228     3    41   135  THA  Thailand  Bangkok Metropolis   \n",
      "27  Sub district   228     3    42   136  THA  Thailand  Bangkok Metropolis   \n",
      "28  Sub district   228     3    43   137  THA  Thailand  Bangkok Metropolis   \n",
      "29  Sub district   228     3    44   138  THA  Thailand  Bangkok Metropolis   \n",
      "30  Sub district   228     3    45   139  THA  Thailand  Bangkok Metropolis   \n",
      "31  Sub district   228     3    46   140  THA  Thailand  Bangkok Metropolis   \n",
      "32  Sub district   228     3    47   141  THA  Thailand  Bangkok Metropolis   \n",
      "33  Sub district   228     3    48   142  THA  Thailand  Bangkok Metropolis   \n",
      "34  Sub district   228     3    49   143  THA  Thailand  Bangkok Metropolis   \n",
      "35  Sub district   228     3    50   144  THA  Thailand  Bangkok Metropolis   \n",
      "36  Sub district   228     3    51   145  THA  Thailand  Bangkok Metropolis   \n",
      "37  Sub district   228     3    52   146  THA  Thailand  Bangkok Metropolis   \n",
      "38  Sub district   228     3    53   147  THA  Thailand  Bangkok Metropolis   \n",
      "39  Sub district   228     3    54   148  THA  Thailand  Bangkok Metropolis   \n",
      "40  Sub district   228     3    55   149  THA  Thailand  Bangkok Metropolis   \n",
      "41  Sub district   228     3    56   150  THA  Thailand  Bangkok Metropolis   \n",
      "42  Sub district   228     3    57   151  THA  Thailand  Bangkok Metropolis   \n",
      "43  Sub district   228     3    58   152  THA  Thailand  Bangkok Metropolis   \n",
      "44  Sub district   228     3    59   153  THA  Thailand  Bangkok Metropolis   \n",
      "45  Sub district   228     3    60   154  THA  Thailand  Bangkok Metropolis   \n",
      "46  Sub district   228     3    61   155  THA  Thailand  Bangkok Metropolis   \n",
      "47  Sub district   228     3    62   156  THA  Thailand  Bangkok Metropolis   \n",
      "48  Sub district   228     3    63   157  THA  Thailand  Bangkok Metropolis   \n",
      "49  Sub district   228     3    64   158  THA  Thailand  Bangkok Metropolis   \n",
      "\n",
      "             NAME_2 NAME_3 NL_NAME_3  TYPE_3 VARNAME_3          mean  \n",
      "0          Bang Bon   None      None  Tambon      None  6.166820e+15  \n",
      "1         Bang Kapi   None      None  Tambon      None           NaN  \n",
      "2         Bang Khae   None      None  Tambon      None           NaN  \n",
      "3         Bang Khen   None      None  Tambon      None  7.938588e+15  \n",
      "4     Bang Kho Laem   None      None  Tambon      None           NaN  \n",
      "5           Bang Na   None      None  Tambon      None           NaN  \n",
      "6         Bang Plad   None      None  Tambon      None           NaN  \n",
      "7          Bang Rak   None      None  Tambon      None           NaN  \n",
      "8           Bang Su   None      None  Tambon      None           NaN  \n",
      "9      Bangkhuntien   None      None  Tambon      None           NaN  \n",
      "10      Bangkok Noi   None      None  Tambon      None           NaN  \n",
      "11      Bangkok Yai   None      None  Tambon      None           NaN  \n",
      "12         Bung Kum   None      None  Tambon      None           NaN  \n",
      "13        Chatuchak   None      None  Tambon      None           NaN  \n",
      "14       Chom Thong   None      None  Tambon      None           NaN  \n",
      "15         Din Dang   None      None  Tambon      None           NaN  \n",
      "16        Don Muang   None      None  Tambon      None           NaN  \n",
      "17            Dusit   None      None  Tambon      None           NaN  \n",
      "18       Huai Kwang   None      None  Tambon      None           NaN  \n",
      "19      Khan Na Yao   None      None  Tambon      None           NaN  \n",
      "20    Khlong Sam Wa   None      None  Tambon      None           NaN  \n",
      "21       Khlong San   None      None  Tambon      None           NaN  \n",
      "22      Khlong Toey   None      None  Tambon      None           NaN  \n",
      "23           Lak Si   None      None  Tambon      None           NaN  \n",
      "24      Lat Krabang   None      None  Tambon      None           NaN  \n",
      "25        Lat Phrao   None      None  Tambon      None           NaN  \n",
      "26         Min Buri   None      None  Tambon      None           NaN  \n",
      "27        Nong Chok   None      None  Tambon      None  4.595888e+15  \n",
      "28        Nongkheam   None      None  Tambon      None           NaN  \n",
      "29       Pathum Wan   None      None  Tambon      None           NaN  \n",
      "30    Phasi Charoen   None      None  Tambon      None           NaN  \n",
      "31       Phaya Thai   None      None  Tambon      None           NaN  \n",
      "32      Phra Nakhon   None      None  Tambon      None           NaN  \n",
      "33  Pom Pram Sattru   None      None  Tambon      None           NaN  \n",
      "34        Prakanong   None      None  Tambon      None           NaN  \n",
      "35           Prawet   None      None  Tambon      None           NaN  \n",
      "36       Rat Burana   None      None  Tambon      None           NaN  \n",
      "37      Ratchathewi   None      None  Tambon      None           NaN  \n",
      "38          Sai Mai   None      None  Tambon      None           NaN  \n",
      "39    Samphantawong   None      None  Tambon      None           NaN  \n",
      "40      Saphan Sung   None      None  Tambon      None           NaN  \n",
      "41          Sathorn   None      None  Tambon      None           NaN  \n",
      "42       Suan Luang   None      None  Tambon      None           NaN  \n",
      "43      Taling Chan   None      None  Tambon      None           NaN  \n",
      "44    Thawi Wattana   None      None  Tambon      None           NaN  \n",
      "45        Thon Buri   None      None  Tambon      None           NaN  \n",
      "46         Thungkru   None      None  Tambon      None           NaN  \n",
      "47   Wang Thonglang   None      None  Tambon      None           NaN  \n",
      "48          Wattana   None      None  Tambon      None           NaN  \n",
      "49          Yannawa   None      None  Tambon      None           NaN  \n"
     ]
    }
   ],
   "source": [
    "# Transfering the infromation from the list to a pandas DataFrame\n",
    "\n",
    "avg_no2_bkk_dis_2020jan = pd.DataFrame(avg_nitrogendioxide)\n",
    "print(avg_no2_bkk_dis_2020jan)"
   ]
  },
  {
   "cell_type": "code",
   "execution_count": 10,
   "metadata": {},
   "outputs": [],
   "source": [
    "avg_no2_bkk_dis_2020jan.to_csv('BKK_OMI_Monthly_MeanNO2_District_2020Jan.csv', encoding='utf-8')"
   ]
  },
  {
   "cell_type": "code",
   "execution_count": null,
   "metadata": {},
   "outputs": [],
   "source": []
  }
 ],
 "metadata": {
  "kernelspec": {
   "display_name": "Python 3",
   "language": "python",
   "name": "python3"
  },
  "language_info": {
   "codemirror_mode": {
    "name": "ipython",
    "version": 3
   },
   "file_extension": ".py",
   "mimetype": "text/x-python",
   "name": "python",
   "nbconvert_exporter": "python",
   "pygments_lexer": "ipython3",
   "version": "3.7.3"
  }
 },
 "nbformat": 4,
 "nbformat_minor": 2
}
